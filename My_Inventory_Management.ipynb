{
 "cells": [
  {
   "cell_type": "code",
   "execution_count": 40,
   "id": "386b7499-e668-4bc5-b7b8-cebc03083301",
   "metadata": {},
   "outputs": [
    {
     "name": "stdout",
     "output_type": "stream",
     "text": [
      "<class 'list'>\n"
     ]
    },
    {
     "name": "stdin",
     "output_type": "stream",
     "text": [
      "Enter Name:  Anuksha\n",
      "Enter Mobile Number: 85647912\n",
      "Enter Email ID:  Anshika998@gmail.com\n",
      "Enter Product ID:  3\n",
      "Enter Product Quantity:  20\n"
     ]
    },
    {
     "name": "stdout",
     "output_type": "stream",
     "text": [
      "------------------------------\n",
      "Product Name         :  Cake\n",
      "Price                :  300\n",
      "Product Quantity     :   20\n",
      "------------------------------\n",
      "Billing Amount       :   6000\n",
      "------------------------------\n",
      "------------------------------\n",
      "Inventory Updated\n"
     ]
    }
   ],
   "source": [
    "import time     # for transaction detail\n",
    "\n",
    "# Reading the Inventory\n",
    "fd = open('Inventory_Management.txt','r')\n",
    "products = fd.read().split('\\n')\n",
    "print(type(products))\n",
    "fd.close()\n",
    "\n",
    "# User Input\n",
    "ui_username = input(\"Enter Name: \")\n",
    "ui_mobile_no = input(\"Enter Mobile Number:\" )\n",
    "ui_email_id = input(\"Enter Email ID: \")\n",
    "ui_product_Id = input(\"Enter Product ID: \")\n",
    "ui_product_Qnt = input(\"Enter Product Quantity: \")\n",
    "\n",
    "updated_product_lst=[]\n",
    "\n",
    "# Going through each product detail\n",
    "for product in products:\n",
    "    if product.strip()==\"\":\n",
    "        continue\n",
    "    \n",
    "    product_detail = product.split(',')\n",
    "\n",
    "    if product_detail[0] == ui_product_Id: # here checking product exists or not\n",
    "        if int(ui_product_Qnt) <= int(product_detail[3]):       # here checking if we're having enough qnt. or not\n",
    "            print(\"-\"*30)\n",
    "            print(\"Product Name         : \", product_detail[1])\n",
    "            print(\"Price                : \", product_detail[2])\n",
    "            print(\"Product Quantity     :  \", ui_product_Qnt)\n",
    "            print(\"-\"*30)\n",
    "    \n",
    "            billing_amount = (int(product_detail[2])*int(ui_product_Qnt))\n",
    "            print(f\"Billing Amount       :   {billing_amount}\")\n",
    "            print(\"-\"*30)\n",
    "\n",
    "            # Updating Inventory list\n",
    "            product_detail[3] = str(int(product_detail[3])-int(ui_product_Qnt))\n",
    "\n",
    "            # Generating Sales Report in Sales.txt\n",
    "            fd = open(\"Sales.txt\",\"a\")\n",
    "            sales_detail = ui_username + \",\" + ui_mobile_no + \",\" + ui_email_id + \",\" + ui_product_Id + \",\" + ui_product_Qnt + \",\" + str((int(product_detail[2])*int(ui_product_Qnt))) + \",\" + time.ctime() + \"\\n\"\n",
    "            fd.write(sales_detail)\n",
    "            fd.close()\n",
    "        \n",
    "    \n",
    "        else:           # if we're not having enough qnt.\n",
    "            print(\"Sorry we haven't sufficient Quantity.\")\n",
    "            print(\"We are having only\",product_detail[3],\"quantity.\")\n",
    "            print(\"Would you like to purchase it?\")\n",
    "\n",
    "            ch = input(\"Press Y/N: \")\n",
    "\n",
    "            # If you want to purchase remaining qnt. or not\n",
    "            if(ch == \"Y\" or ch ==  \"y\"):\n",
    "                print(\"-\"*30)\n",
    "                print(\"Product Name         : \", product_detail[1])\n",
    "                print(\"Price                : \", product_detail[2])\n",
    "                print(\"Product Quantity     : \", product_detail[3])\n",
    "                print(\"-\"*30)\n",
    "        \n",
    "                billing_amount = (int(product_detail[2])*int(product_detail[3]))\n",
    "                print(f\"Billing Amount       :   {billing_amount}\")\n",
    "                print(\"-\"*30)\n",
    "\n",
    "                # Updating inventory list\n",
    "                product_detail[3] = '0'\n",
    "                \n",
    "            else:\n",
    "                print(\"THANKS\")\n",
    "\n",
    "    # Updating My inventory List\n",
    "    updated_product_lst.append(product_detail)       \n",
    "        \n",
    "    \n",
    "lst=[]\n",
    "\n",
    "# Updating My inventory String\n",
    "for i in updated_product_lst:\n",
    "    prod = i[0] + \",\" + i[1] + \",\" + i[2] + \",\" + i[3] + \"\\n\"\n",
    "    lst.append(prod)\n",
    "    \n",
    "# Updating inventory File\n",
    "fd =open('Inventory_Management.txt','w')\n",
    "\n",
    "for i in lst:\n",
    "    fd.write(i)\n",
    "\n",
    "fd.close()\n",
    "print(\"-\"*30)\n",
    "print(\"Inventory Updated\")\n"
   ]
  }
 ],
 "metadata": {
  "kernelspec": {
   "display_name": "Python 3 (ipykernel)",
   "language": "python",
   "name": "python3"
  },
  "language_info": {
   "codemirror_mode": {
    "name": "ipython",
    "version": 3
   },
   "file_extension": ".py",
   "mimetype": "text/x-python",
   "name": "python",
   "nbconvert_exporter": "python",
   "pygments_lexer": "ipython3",
   "version": "3.12.4"
  }
 },
 "nbformat": 4,
 "nbformat_minor": 5
}
